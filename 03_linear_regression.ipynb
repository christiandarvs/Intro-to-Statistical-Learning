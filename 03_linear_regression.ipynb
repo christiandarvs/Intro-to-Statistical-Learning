{
 "cells": [
  {
   "cell_type": "markdown",
   "metadata": {},
   "source": [
    "## Chapter 3: Linear Regression"
   ]
  },
  {
   "cell_type": "code",
   "execution_count": 1,
   "metadata": {},
   "outputs": [],
   "source": [
    "import pandas as pd\n",
    "import numpy as np\n",
    "import matplotlib.pyplot as plt\n",
    "import seaborn as sns"
   ]
  },
  {
   "cell_type": "markdown",
   "metadata": {},
   "source": [
    "## 3: Simple Linear Regression"
   ]
  },
  {
   "cell_type": "markdown",
   "metadata": {},
   "source": [
    "#### 3.1.1: Estimating the Coefficients"
   ]
  },
  {
   "cell_type": "markdown",
   "metadata": {},
   "source": [
    "- predicting a continuous value $Y$ on the basis of a single predictor variable $X$.\n",
    "- assumes that there's approximately a linear relationship between $X$ and $Y$.\n",
    "- $Y$ $\\approx$ $\\beta_0$ $+$ $\\beta_1$ $X$ (approximately modeled as)\n",
    "- $\\beta_0$ and $\\beta_1$ are unknown constants that represent the **intercept** and **slope**\n",
    "- $\\hat{y}$ = $\\hat{\\beta_0}$ $+$ $\\hat{\\beta_1}$ $x$ (Prediction for $Y$ based on the $ith$ value of $X$)\n",
    "- We want to find an intercept $\\beta_0$ and a slope $\\beta_1$ that results to a line as close as possible to the $n$ data points.\n",
    "- $e_i$ = $y_i$ $-$ $\\hat{y}_i$ (Represents the $ith$ residual)"
   ]
  },
  {
   "cell_type": "code",
   "execution_count": 11,
   "metadata": {},
   "outputs": [
    {
     "name": "stdout",
     "output_type": "stream",
     "text": [
      "200.0 100.0\n"
     ]
    }
   ],
   "source": [
    "X = np.array([1, 2])\n",
    "y = np.array([300, 500])\n",
    "\n",
    "\n",
    "def compute_b1(X, y):\n",
    "    \"\"\"Computes the slope (b1)\n",
    "\n",
    "    Args:\n",
    "        X (array-like): Independent variable\n",
    "        y (array-like): Dependednt variable\n",
    "\n",
    "    Returns:\n",
    "        float: The slope of the regression line\n",
    "    \"\"\"\n",
    "    X_mean = np.mean(X, axis=0)\n",
    "    y_mean = np.mean(y, axis=0)\n",
    "    numerator = np.sum((X - X_mean) * (y - y_mean))\n",
    "    denominator = np.sum((X - X_mean) ** 2)\n",
    "    return numerator / denominator\n",
    "\n",
    "\n",
    "def compute_b0(b1, X, y):\n",
    "    \"\"\"Computes the intercept (b0)\n",
    "\n",
    "    Args:\n",
    "        b1 (float): Slope\n",
    "        X (array-like): Independent variable\n",
    "        y (array-like): Dependednt variable\n",
    "\n",
    "    Returns:\n",
    "        float: The intercept of the regression line\n",
    "    \"\"\"\n",
    "    X_mean = np.mean(X, axis=0)\n",
    "    y_mean = np.mean(y, axis=0)\n",
    "    return y_mean - b_1 * X_mean\n",
    "\n",
    "\n",
    "b_1 = compute_b1(X, y)\n",
    "b_0 = compute_b0(b_1, X, y)\n",
    "print(b_1, b_0)"
   ]
  },
  {
   "cell_type": "code",
   "execution_count": 12,
   "metadata": {},
   "outputs": [],
   "source": [
    "def compute_rss(y, y_hat):\n",
    "    return np.sum((y - y_hat) ** 2)"
   ]
  },
  {
   "cell_type": "code",
   "execution_count": 20,
   "metadata": {},
   "outputs": [
    {
     "name": "stdout",
     "output_type": "stream",
     "text": [
      "y_hat: [300. 500.]\n",
      "RSS: 0.0\n"
     ]
    }
   ],
   "source": [
    "y_hat = b_0 + np.dot(X, b_1)\n",
    "rss = compute_rss(y, y_hat)\n",
    "print(f\"y_hat: {y_hat}\")\n",
    "print(f\"RSS: {rss}\")"
   ]
  },
  {
   "cell_type": "markdown",
   "metadata": {},
   "source": [
    "#### 3.1.2: Assessing the Accuracy of the Coefficient Estimates"
   ]
  }
 ],
 "metadata": {
  "kernelspec": {
   "display_name": "base",
   "language": "python",
   "name": "python3"
  },
  "language_info": {
   "codemirror_mode": {
    "name": "ipython",
    "version": 3
   },
   "file_extension": ".py",
   "mimetype": "text/x-python",
   "name": "python",
   "nbconvert_exporter": "python",
   "pygments_lexer": "ipython3",
   "version": "3.11.7"
  }
 },
 "nbformat": 4,
 "nbformat_minor": 2
}
